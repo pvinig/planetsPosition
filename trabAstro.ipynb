{
 "cells": [
  {
   "cell_type": "code",
   "execution_count": 32,
   "id": "fa5dd33d-1553-4678-b009-556452f72f1e",
   "metadata": {},
   "outputs": [],
   "source": [
    "import numpy as np"
   ]
  },
  {
   "cell_type": "code",
   "execution_count": 33,
   "id": "d5e45521-cef6-4946-9b49-52e02a93a75d",
   "metadata": {},
   "outputs": [],
   "source": [
    "def time (h, mn, d, m, y):\n",
    "    time = round((367*y-int((7*(y+int(((m+9)/12))))/4)+int(((275*m)/9))+d-730530) + (h/24) + (mn/1440),3)\n",
    "    return time"
   ]
  },
  {
   "cell_type": "code",
   "execution_count": 34,
   "id": "7c6cea57-427f-497d-9856-68b9056628c9",
   "metadata": {},
   "outputs": [
    {
     "data": {
      "text/plain": [
       "-49052.521"
      ]
     },
     "execution_count": 34,
     "metadata": {},
     "output_type": "execute_result"
    }
   ],
   "source": [
    "# 12/09/1865\n",
    "t = time(11,30,  12, 9, 1865)\n",
    "t"
   ]
  },
  {
   "cell_type": "code",
   "execution_count": 56,
   "id": "8e1ea72b-31db-407f-b820-b969fa7ce49f",
   "metadata": {},
   "outputs": [
    {
     "name": "stdout",
     "output_type": "stream",
     "text": [
      " Ω: 46.739° \n",
      " i: 7.002° \n",
      " ω: 28.626° \n",
      " a: 0.387098 u.a \n",
      " e: 0.206°  \n",
      " M: 162.859° \n",
      " E: 2.84 rad \n",
      " v: 2.896°  \n",
      " r: 0.463 u.a \n",
      " X: -65907764 km \n",
      " Y: 30974585 km \n",
      " Z: 4828916 km \n",
      " l: 359.561° \n",
      " b: 0.066°\n"
     ]
    }
   ],
   "source": [
    "def Mercurio():\n",
    "  omega = round((48.3313 + 3.24587*1e-5 * t),3)\n",
    "  i = round((7.0047 + 5.00*1e-8 * t),3)\n",
    "  pi = round((29.1241 + 1.01444*1e-5 * t),3)\n",
    "  a = 0.387098 \n",
    "  e = round((0.205635 + 5.59*1e-10 * t),3)\n",
    "  M = round((168.6562 + 4.0923344368 * t)/360 % 360   ,3)\n",
    "    \n",
    "  delta_e = 1\n",
    "  E = M\n",
    "  while abs(delta_e) > 5e-6:\n",
    "    e_tio = E\n",
    "    delta_e = ((M)-(e_tio)+e*np.sin((e_tio)))/(1-e*np.cos((e_tio)))\n",
    "    E = e_tio + delta_e\n",
    "  E = round(E * (np.pi / 180),3)\n",
    "\n",
    "  v = round(2*np.arctan(np.sqrt((1+e)/(1-e))*np.tan(E/2)),3)\n",
    "  if v < 0:\n",
    "    v += 360\n",
    "  r = round((a*(1-e**2))/(1+(e*np.cos(v))),3)\n",
    "  \n",
    "  X = round(r*((np.cos(omega)*np.cos(pi + v)) - (np.sin(omega)*np.sin(pi + v)*np.cos(i)))*149597870)\n",
    "  Y = round(r*((np.sin(omega)*np.cos(pi + v)) - (np.cos(omega)*np.sin(pi + v)*np.cos(i)))*149597870)\n",
    "  Z = round(r*np.sin(pi + v)*np.sin(i)*149597870) \n",
    "\n",
    "  l = round( np.arctan(Y/X)                      if np.arctan(Y/X) > 0 else np.arctan(Y/X) + 360, 3)\n",
    "  b = round(np.arctan(Z/np.sqrt(X**2 + Y**2)),3) \n",
    "\n",
    "  print(f' Ω: {omega}° \\n i: {i}° \\n ω: {pi}° \\n a: {a} u.a \\n e: {e}°',\n",
    "        f' \\n M: {M}° \\n E: {E} rad \\n v: {v}°  \\n r: {r} u.a \\n',\n",
    "        f'X: {X} km \\n Y: {Y} km \\n Z: {Z} km \\n',\n",
    "        f'l: {l}° \\n b: {b}°')\n",
    "  \n",
    "Mercurio()"
   ]
  },
  {
   "cell_type": "code",
   "execution_count": 57,
   "id": "d9c27765-6a99-4230-aff8-c2fdb406b174",
   "metadata": {},
   "outputs": [
    {
     "name": "stdout",
     "output_type": "stream",
     "text": [
      " Ω: 75.47° \n",
      " i: 3.393° \n",
      " ω: 54.212° \n",
      " a: 0.72333 u.a \n",
      " e: 0.007°  \n",
      " M: 141.85° \n",
      " E: 2.476 rad \n",
      " v: 2.48°  \n",
      " r: 0.727 u.a \n",
      " X: 108444313 km \n",
      " Y: 22727582 km \n",
      " Z: -3864639 km \n",
      " l: 0.207° \n",
      " b: -0.035°\n"
     ]
    }
   ],
   "source": [
    "def Venus():\n",
    "  omega = round((76.6799 + 2.46590*1e-5 * t),3)\n",
    "  i = round((3.3946 + 2.75*1e-8 * t),3)\n",
    "  pi = round((54.8910 + 1.38374*1e-5 * t),3)\n",
    "  a = 0.723330\n",
    "  e = round((0.006773 - 1.302*1e-9 * t),3)\n",
    "  M = round((48.005 + 1.602 * t)/360 % 360,3)\n",
    "    \n",
    "  delta_e = 1\n",
    "  E = M\n",
    "  while abs(delta_e) > 5e-6:\n",
    "    e_tio = E\n",
    "    delta_e = ((M)-(e_tio)+e*np.sin((e_tio)))/(1-e*np.cos((e_tio)))\n",
    "    E = e_tio + delta_e\n",
    "  E = round(E * (np.pi / 180),3)\n",
    "\n",
    "  v = round(2*np.arctan(np.sqrt((1+e)/(1-e))*np.tan(E/2)),3)\n",
    "  if v < 0:\n",
    "    v += 360\n",
    "  r = round((a*(1-e**2))/(1+(e*np.cos(v))),3)\n",
    "  \n",
    "  X = round(r*((np.cos(omega)*np.cos(pi + v)) - (np.sin(omega)*np.sin(pi + v)*np.cos(i)))*149597870)\n",
    "  Y = round(r*((np.sin(omega)*np.cos(pi + v)) - (np.cos(omega)*np.sin(pi + v)*np.cos(i)))*149597870)\n",
    "  Z = round(r*np.sin(pi + v)*np.sin(i)*149597870) \n",
    "\n",
    "  l = round( np.arctan(Y/X)                      if np.arctan(Y/X) > 0 else np.arctan(Y/X) + 360, 3)\n",
    "  b = round(np.arctan(Z/np.sqrt(X**2 + Y**2)),3) \n",
    "\n",
    "  print(f' Ω: {omega}° \\n i: {i}° \\n ω: {pi}° \\n a: {a} u.a \\n e: {e}°',\n",
    "        f' \\n M: {M}° \\n E: {E} rad \\n v: {v}°  \\n r: {r} u.a \\n',\n",
    "        f'X: {X} km \\n Y: {Y} km \\n Z: {Z} km \\n',\n",
    "        f'l: {l}° \\n b: {b}°')\n",
    "  \n",
    "Venus()"
   ]
  },
  {
   "cell_type": "code",
   "execution_count": 62,
   "id": "03635642-d6b2-4352-a5d2-93bdfbcca019",
   "metadata": {},
   "outputs": [
    {
     "name": "stdout",
     "output_type": "stream",
     "text": [
      " Ω: 0.0° \n",
      " i: 0.0° \n",
      " ω: 280.63° \n",
      " a: 1.0 u.a \n",
      " e: 0.017°  \n",
      " M: 226.776° \n",
      " E: 3.958 rad \n",
      " v: 357.662°  \n",
      " r: 0.985 u.a \n",
      " X: -125723502 km \n",
      " Y: 76855537 km \n",
      " Z: 0 km \n",
      " l: 359.451° \n",
      " b: 0.0°\n"
     ]
    }
   ],
   "source": [
    "def Terra():\n",
    "  omega = 0.0\n",
    "  i = 0.0\n",
    "  pi = round((282.9404 + 4.70935*1e-5 * t),3)\n",
    "  a = 1.000000 \n",
    "  e = round((0.016709 - 1.151*1e-9 * t),3)\n",
    "  M = round((356.047 + .985 * t)/360 % 360,3)\n",
    "    \n",
    "  delta_e = 1\n",
    "  E = M\n",
    "  while abs(delta_e) > 5e-6:\n",
    "    e_tio = E\n",
    "    delta_e = ((M)-(e_tio)+e*np.sin((e_tio)))/(1-e*np.cos((e_tio)))\n",
    "    E = e_tio + delta_e\n",
    "  E = round(E * (np.pi / 180),3)\n",
    "\n",
    "  v = round(2*np.arctan(np.sqrt((1+e)/(1-e))*np.tan(E/2)),3)\n",
    "  if v < 0:\n",
    "    v += 360\n",
    "  r = round((a*(1-e**2))/(1+(e*np.cos(v))),3)\n",
    "  \n",
    "  X = round(r*((np.cos(omega)*np.cos(pi + v)) - (np.sin(omega)*np.sin(pi + v)*np.cos(i)))*149597870)\n",
    "  Y = round(r*((np.sin(omega)*np.cos(pi + v)) - (np.cos(omega)*np.sin(pi + v)*np.cos(i)))*149597870)\n",
    "  Z = round(r*np.sin(pi + v)*np.sin(i)*149597870) \n",
    "\n",
    "  l = round( np.arctan(Y/X)                      if np.arctan(Y/X) > 0 else np.arctan(Y/X) + 360, 3)\n",
    "  b = round(np.arctan(Z/np.sqrt(X**2 + Y**2)),3) \n",
    "\n",
    "  print(f' Ω: {omega}° \\n i: {i}° \\n ω: {pi}° \\n a: {a} u.a \\n e: {e}°',\n",
    "        f' \\n M: {M}° \\n E: {E} rad \\n v: {v}°  \\n r: {r} u.a \\n',\n",
    "        f'X: {X} km \\n Y: {Y} km \\n Z: {Z} km \\n',\n",
    "        f'l: {l}° \\n b: {b}°')\n",
    "  \n",
    "Terra()"
   ]
  },
  {
   "cell_type": "code",
   "execution_count": 77,
   "id": "afa87ed2-a3ae-40f1-b8a4-bffde1005ebc",
   "metadata": {},
   "outputs": [
    {
     "name": "stdout",
     "output_type": "stream",
     "text": [
      " Ω: 48.522° \n",
      " i: 1.851° \n",
      " ω: 285.065° \n",
      " a: 1.523688 u.a \n",
      " e: 0.093°  \n",
      " M: 288.653° \n",
      " E: 5.037 rad \n",
      " v: 358.664°  \n",
      " r: 1.398 u.a \n",
      " X: 17656021 km \n",
      " Y: 194064206 km \n",
      " Z: 58912673 km \n",
      " l: 1.48° \n",
      " b: 0.294°\n"
     ]
    }
   ],
   "source": [
    "def Marte():\n",
    "  omega = round((49.5574 + 2.11081*1e-5 * t),3)\n",
    "  i = round((1.8497 - 1.78*1e-8 * t),3)\n",
    "  pi = round((286.5016 + 2.92961*1e-5 * t),3)\n",
    "  a = 1.523688 \n",
    "  e = round((0.093405 + 2.516*1e-9 * t),3)\n",
    "  M = round((18.602 + .524 * t)/360 % 360,3)\n",
    "    \n",
    "  delta_e = 1\n",
    "  E = M\n",
    "  while abs(delta_e) > 5e-6:\n",
    "    e_tio = E\n",
    "    delta_e = ((M)-(e_tio)+e*np.sin((e_tio)))/(1-e*np.cos((e_tio)))\n",
    "    E = e_tio + delta_e\n",
    "  E = round(E * (np.pi / 180),3)\n",
    "\n",
    "  v = round(2*np.arctan(np.sqrt((1+e)/(1-e))*np.tan(E/2)),3)\n",
    "  if v < 0:\n",
    "    v += 360\n",
    "  r = round((a*(1-e**2))/(1+(e*np.cos(v))),3)\n",
    "  \n",
    "  X = round(r*((np.cos(omega)*np.cos(pi + v)) - (np.sin(omega)*np.sin(pi + v)*np.cos(i)))*149597870)\n",
    "  Y = round(r*((np.sin(omega)*np.cos(pi + v)) - (np.cos(omega)*np.sin(pi + v)*np.cos(i)))*149597870)\n",
    "  Z = round(r*np.sin(pi + v)*np.sin(i)*149597870) \n",
    "\n",
    "  l = round( np.arctan(Y/X)                      if np.arctan(Y/X) > 0 else np.arctan(Y/X) + 360, 3)\n",
    "  b = round(np.arctan(Z/np.sqrt(X**2 + Y**2)),3) \n",
    "\n",
    "  print(f' Ω: {omega}° \\n i: {i}° \\n ω: {pi}° \\n a: {a} u.a \\n e: {e}°',\n",
    "        f' \\n M: {M}° \\n E: {E} rad \\n v: {v}°  \\n r: {r} u.a \\n',\n",
    "        f'X: {X} km \\n Y: {Y} km \\n Z: {Z} km \\n',\n",
    "        f'l: {l}° \\n b: {b}°')\n",
    "  \n",
    "Marte()"
   ]
  },
  {
   "cell_type": "code",
   "execution_count": 76,
   "id": "23f8f948-6049-429d-b956-9d2aca9fdfe5",
   "metadata": {},
   "outputs": [
    {
     "name": "stdout",
     "output_type": "stream",
     "text": [
      " Ω: 99.096° \n",
      " i: 1.311° \n",
      " ω: 273.071° \n",
      " a: 5.20256 u.a \n",
      " e: 0.048°  \n",
      " M: 348.746° \n",
      " E: 6.087 rad \n",
      " v: 359.794°  \n",
      " r: 5.211 u.a \n",
      " X: -213120212 km \n",
      " Y: 154309823 km \n",
      " Z: -743047999 km \n",
      " l: 359.373° \n",
      " b: -1.23°\n"
     ]
    }
   ],
   "source": [
    "def Jupiter():\n",
    "  omega = round((100.4542 + 2.76854*1e-5 * t),3)\n",
    "  i = round((1.3030 - 1.557*1e-7 * t),3)\n",
    "  pi = round((273.8777 + 1.64505*1e-5 * t),3)\n",
    "  a = 5.20256\n",
    "  e = round((0.048498 + 4.469*1e-9 * t),3)\n",
    "  M = round((19.8950 + .0830 * t)/360 % 360,3)\n",
    "    \n",
    "  delta_e = 1\n",
    "  E = M\n",
    "  while abs(delta_e) > 5e-6:\n",
    "    e_tio = E\n",
    "    delta_e = ((M)-(e_tio)+e*np.sin((e_tio)))/(1-e*np.cos((e_tio)))\n",
    "    E = e_tio + delta_e\n",
    "  E = round(E * (np.pi / 180),3)\n",
    "\n",
    "  v = round(2*np.arctan(np.sqrt((1+e)/(1-e))*np.tan(E/2)),3)\n",
    "  if v < 0:\n",
    "    v += 360\n",
    "  r = round((a*(1-e**2))/(1+(e*np.cos(v))),3)\n",
    "  \n",
    "  X = round(r*((np.cos(omega)*np.cos(pi + v)) - (np.sin(omega)*np.sin(pi + v)*np.cos(i)))*149597870)\n",
    "  Y = round(r*((np.sin(omega)*np.cos(pi + v)) - (np.cos(omega)*np.sin(pi + v)*np.cos(i)))*149597870)\n",
    "  Z = round(r*np.sin(pi + v)*np.sin(i)*149597870) \n",
    "\n",
    "  l = round( np.arctan(Y/X)                      if np.arctan(Y/X) > 0 else np.arctan(Y/X) + 360, 3)\n",
    "  b = round(np.arctan(Z/np.sqrt(X**2 + Y**2)),3) \n",
    "\n",
    "  print(f' Ω: {omega}° \\n i: {i}° \\n ω: {pi}° \\n a: {a} u.a \\n e: {e}°',\n",
    "        f' \\n M: {M}° \\n E: {E} rad \\n v: {v}°  \\n r: {r} u.a \\n',\n",
    "        f'X: {X} km \\n Y: {Y} km \\n Z: {Z} km \\n',\n",
    "        f'l: {l}° \\n b: {b}°')\n",
    "  \n",
    "  \n",
    "Jupiter()"
   ]
  },
  {
   "cell_type": "code",
   "execution_count": 66,
   "id": "c8abbc68-c1dd-42db-97cb-62a2470b6480",
   "metadata": {},
   "outputs": [
    {
     "name": "stdout",
     "output_type": "stream",
     "text": [
      " Ω: 112.491° \n",
      " i: 2.494° \n",
      " ω: 337.934° \n",
      " a: 9.55475 u.a \n",
      " e: 0.056°  \n",
      " M: 356.384° \n",
      " E: 6.219 rad \n",
      " v: 359.932°  \n",
      " r: 9.642 u.a \n",
      " X: 801460337 km \n",
      " Y: -350151103 km \n",
      " Z: 364669175 km \n",
      " l: 359.588° \n",
      " b: 0.395°\n"
     ]
    }
   ],
   "source": [
    "def Saturno():\n",
    "  omega = round((113.6634 + 2.38980*1e-5 * t),3)\n",
    "  i = round((2.4886 - 1.081*1e-7 * t),3)\n",
    "  pi = round((339.3939 + 2.97661*1e-5 * t),3)\n",
    "  a = 9.55475 \n",
    "  e = round((0.055546 - 9.499*1e-9 * t),3)\n",
    "  M = round(((316.9670 + .033 * t)/360) % 360,3)\n",
    "    \n",
    "  delta_e = 1\n",
    "  E = M\n",
    "  while abs(delta_e) > 5e-6:\n",
    "    e_tio = E\n",
    "    delta_e = ((M)-(e_tio)+e*np.sin((e_tio)))/(1-e*np.cos((e_tio)))\n",
    "    E = e_tio + delta_e\n",
    "  E = round(E * (np.pi / 180),3)\n",
    "\n",
    "  v = round(2*np.arctan(np.sqrt((1+e)/(1-e))*np.tan(E/2)),3)\n",
    "  if v < 0:\n",
    "    v += 360\n",
    "  r = round((a*(1-e**2))/(1+(e*np.cos(v))),3)\n",
    "  \n",
    "  X = round(r*((np.cos(omega)*np.cos(pi + v)) - (np.sin(omega)*np.sin(pi + v)*np.cos(i)))*149597870)\n",
    "  Y = round(r*((np.sin(omega)*np.cos(pi + v)) - (np.cos(omega)*np.sin(pi + v)*np.cos(i)))*149597870)\n",
    "  Z = round(r*np.sin(pi + v)*np.sin(i)*149597870) \n",
    "\n",
    "  l = round( np.arctan(Y/X)                      if np.arctan(Y/X) > 0 else np.arctan(Y/X) + 360, 3)\n",
    "  b = round(np.arctan(Z/np.sqrt(X**2 + Y**2)),3) \n",
    "\n",
    "  print(f' Ω: {omega}° \\n i: {i}° \\n ω: {pi}° \\n a: {a} u.a \\n e: {e}°',\n",
    "        f' \\n M: {M}° \\n E: {E} rad \\n v: {v}°  \\n r: {r} u.a \\n',\n",
    "        f'X: {X} km \\n Y: {Y} km \\n Z: {Z} km \\n',\n",
    "        f'l: {l}° \\n b: {b}°')\n",
    "  \n",
    "Saturno()"
   ]
  },
  {
   "cell_type": "code",
   "execution_count": 68,
   "id": "378fea6f-99fa-4420-a288-f1080542f80e",
   "metadata": {},
   "outputs": [
    {
     "name": "stdout",
     "output_type": "stream",
     "text": [
      " Ω: 73.315° \n",
      " i: 0.772° \n",
      " ω: 5.162° \n",
      " a: 19.182 u.a \n",
      " e: 0.047°  \n",
      " M: 358.897° \n",
      " E: 6.265 rad \n",
      " v: 359.981°  \n",
      " r: 19.381 u.a \n",
      " X: 121147619 km \n",
      " Y: -1232407239 km \n",
      " Z: 1330947849 km \n",
      " l: 358.527° \n",
      " b: 0.821°\n"
     ]
    }
   ],
   "source": [
    "def Urano():\n",
    "  omega = round((74.0005 + 1.3978*1e-5 * t),3)\n",
    "  i = round((0.7733 + 1.9*1e-8 * t),3)\n",
    "  pi = round((6.6612 + 3.0565*1e-5 * t),3)\n",
    "  a = round((19.18171 - 1.55*1e-8 * t),3)\n",
    "  e = round((0.047318 + 7.45*1e-9 * t),3)\n",
    "  M = round((142.5905 + .011 * t)/360 % 360,3)\n",
    "    \n",
    "  delta_e = 1\n",
    "  E = M\n",
    "  while abs(delta_e) > 5e-6:\n",
    "    e_tio = E\n",
    "    delta_e = ((M)-(e_tio)+e*np.sin((e_tio)))/(1-e*np.cos((e_tio)))\n",
    "    E = e_tio + delta_e\n",
    "  E = round(E * (np.pi / 180),3)\n",
    "\n",
    "  v = round(2*np.arctan(np.sqrt((1+e)/(1-e))*np.tan(E/2)),3)\n",
    "  if v < 0:\n",
    "    v += 360\n",
    "  r = round((a*(1-e**2))/(1+(e*np.cos(v))),3)\n",
    "  \n",
    "  X = round(r*((np.cos(omega)*np.cos(pi + v)) - (np.sin(omega)*np.sin(pi + v)*np.cos(i)))*149597870)\n",
    "  Y = round(r*((np.sin(omega)*np.cos(pi + v)) - (np.cos(omega)*np.sin(pi + v)*np.cos(i)))*149597870)\n",
    "  Z = round(r*np.sin(pi + v)*np.sin(i)*149597870) \n",
    "\n",
    "  l = round( np.arctan(Y/X)                      if np.arctan(Y/X) > 0 else np.arctan(Y/X) + 360, 3)\n",
    "  b = round(np.arctan(Z/np.sqrt(X**2 + Y**2)),3) \n",
    "\n",
    "  print(f' Ω: {omega}° \\n i: {i}° \\n ω: {pi}° \\n a: {a} u.a \\n e: {e}°',\n",
    "        f' \\n M: {M}° \\n E: {E} rad \\n v: {v}°  \\n r: {r} u.a \\n',\n",
    "        f'X: {X} km \\n Y: {Y} km \\n Z: {Z} km \\n',\n",
    "        f'l: {l}° \\n b: {b}°')\n",
    "  \n",
    "Urano()"
   ]
  },
  {
   "cell_type": "code",
   "execution_count": 78,
   "id": "e498b7c9-1b27-45ad-9108-38ca16df07b4",
   "metadata": {},
   "outputs": [
    {
     "name": "stdout",
     "output_type": "stream",
     "text": [
      " Ω: 130.301° \n",
      " i: 1.783° \n",
      " ω: 273.142° \n",
      " a: 30.057 u.a \n",
      " e: 0.009°  \n",
      " M: 359.919° \n",
      " E: 6.282 rad \n",
      " v: 359.999°  \n",
      " r: 30.131 u.a \n",
      " X: 903795691 km \n",
      " Y: -422999875 km \n",
      " Z: -4379754809 km \n",
      " l: 359.562° \n",
      " b: -1.347°\n"
     ]
    }
   ],
   "source": [
    "def Netuno():\n",
    "  omega = round((131.7806 + 3.0173*1e-5 * t),3)\n",
    "  i = round((1.7700 - 2.55*1e-7 * t),3)\n",
    "  pi = round((272.8461 - 6.027*1e-6 * t),3)\n",
    "  a = round((30.05826 + 3.313*1e-8 * t),3)\n",
    "  e = round((0.008606 + 2.15*1e-9 * t),3)\n",
    "  M = round((260.247 + .0059 * t)/360 % 360,3)\n",
    "    \n",
    "  delta_e = 1\n",
    "  E = M\n",
    "  while abs(delta_e) > 5e-6:\n",
    "    e_tio = E\n",
    "    delta_e = ((M)-(e_tio)+e*np.sin((e_tio)))/(1-e*np.cos((e_tio)))\n",
    "    E = e_tio + delta_e\n",
    "  E = round(E * (np.pi / 180),3)\n",
    "\n",
    "  v = round(2*np.arctan(np.sqrt((1+e)/(1-e))*np.tan(E/2)),3)\n",
    "  if v < 0:\n",
    "    v += 360\n",
    "  r = round((a*(1-e**2))/(1+(e*np.cos(v))),3)\n",
    "  \n",
    "  X = round(r*((np.cos(omega)*np.cos(pi + v)) - (np.sin(omega)*np.sin(pi + v)*np.cos(i)))*149597870)\n",
    "  Y = round(r*((np.sin(omega)*np.cos(pi + v)) - (np.cos(omega)*np.sin(pi + v)*np.cos(i)))*149597870)\n",
    "  Z = round(r*np.sin(pi + v)*np.sin(i)*149597870) \n",
    "\n",
    "  l = round( np.arctan(Y/X)                      if np.arctan(Y/X) > 0 else np.arctan(Y/X) + 360, 3)\n",
    "  b = round(np.arctan(Z/np.sqrt(X**2 + Y**2)),3) \n",
    "\n",
    "  print(f' Ω: {omega}° \\n i: {i}° \\n ω: {pi}° \\n a: {a} u.a \\n e: {e}°',\n",
    "        f' \\n M: {M}° \\n E: {E} rad \\n v: {v}°  \\n r: {r} u.a \\n',\n",
    "        f'X: {X} km \\n Y: {Y} km \\n Z: {Z} km \\n',\n",
    "        f'l: {l}° \\n b: {b}°')\n",
    "\n",
    "Netuno()"
   ]
  },
  {
   "cell_type": "code",
   "execution_count": null,
   "id": "ddca327c-0494-4090-ab3e-12a20590e9c6",
   "metadata": {},
   "outputs": [],
   "source": []
  }
 ],
 "metadata": {
  "kernelspec": {
   "display_name": "Python 3.10.5 64-bit (windows store)",
   "language": "python",
   "name": "python3"
  },
  "language_info": {
   "codemirror_mode": {
    "name": "ipython",
    "version": 3
   },
   "file_extension": ".py",
   "mimetype": "text/x-python",
   "name": "python",
   "nbconvert_exporter": "python",
   "pygments_lexer": "ipython3",
   "version": "3.10.5"
  },
  "vscode": {
   "interpreter": {
    "hash": "34f901a3340d6cee11d52a9c678d35c4b93bc6a53faf65db5511ed6970bafd33"
   }
  }
 },
 "nbformat": 4,
 "nbformat_minor": 5
}
